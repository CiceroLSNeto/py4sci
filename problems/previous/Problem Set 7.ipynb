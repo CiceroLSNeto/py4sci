{
 "metadata": {
  "name": "Problem Set 7"
 },
 "nbformat": 3,
 "nbformat_minor": 0,
 "worksheets": [
  {
   "cells": [
    {
     "cell_type": "markdown",
     "metadata": {},
     "source": [
      "Debugging existing code\n",
      "=======================\n",
      "\n",
      "In this problem set, rather than writing code, the aim is for you to find bugs in existing code examples that I have written, and fix them. In addition, you will be using git to keep track of the fixes that you make.\n",
      "\n",
      "* Start off by making sure you are logged in to [https://github.com/](https://github.com/)\n",
      "* Go to [https://github.com/astrofrog/problem_set_7](https://github.com/astrofrog/problem_set_7)\n",
      "* In the top-right, click on 'Fork' - this copies the repository over to your user on GitHub\n",
      "* Now, *clone* the repository to your local hard drive (see lecture notes for how to do this)\n",
      "* There are four example scripts. Open them and you will see there is a little description at the top telling you what the script should be doing. Try and run the scripts, and you will see that they are not producing the expected output.\n",
      "* Try and fix them so that they do produce the correct output. Once you have made changes to one of the examples, create a new *revision* with ``git`` containing these changes, and include a note in the commit message of what the bug was and how you fixed it. Do this for all four examples.\n",
      "* For the fourth example, make sure you also include the changes to the PNG file in a revision.\n",
      "* Once you have fixed all four programs, push the changes back to your repository on GitHub, and check that the changes appear online!\n",
      "* When you submit the solution via the Google form, give the URL of the page with your repository.\n",
      "\n",
      "If you have issues with getting ``git`` to work, please let me know!"
     ]
    }
   ],
   "metadata": {}
  }
 ]
}
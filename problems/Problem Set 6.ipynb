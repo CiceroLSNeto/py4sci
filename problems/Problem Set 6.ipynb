{
 "metadata": {
  "name": "Problem Set 6"
 },
 "nbformat": 3,
 "nbformat_minor": 0,
 "worksheets": [
  {
   "cells": [
    {
     "cell_type": "markdown",
     "metadata": {},
     "source": [
      "The Central Limit Theorem (CLT)\n",
      "===============================\n",
      "\n",
      "This week's problem can be solved with only a small amount of code, but it is likely you will need to think a bit about how best to implement the algorithms described. Let me know if you have any issues with the concepts. As usual, the script should run without errors on the command-line with:\n",
      "\n",
      "    python 6.py\n",
      "\n",
      "Please also make sure that the script outputs the two plots as PNG files.\n",
      "\n",
      "About the problem\n",
      "-----------------\n",
      "\n",
      "In this problem set, the aim is to demonstrate the [Central Limit Theorem](http://en.wikipedia.org/wiki/Central_limit_theorem), which states that the mean of a sufficiently large number of independent random variables will be approximately normally distributed. A good way to understand this theorem is to try it out with a simple case, which we will do in this problem set.\n",
      "\n",
      "Sampling from a probability distribution function (5 points)\n",
      "------------------------------------------------------------\n",
      "\n",
      "Before we can test the central limit theorem, we have to first write a function that can sample random values from an arbitrary probability distribution function. This means that given a function $P(x)$ which is the probability as a function of $x$, we want to sample random values such that the histogram of the random values tends to $P(x)$ if enough samples are taken. We already encountered this previously when using ``np.random.normal`` to sample from a Gaussian, but now we want to write a function that samples from an arbitrary distribution.\n",
      "\n",
      "There are several ways you can sample from a probability distribution, but here we will use the [Inverse transform sampling](http://en.wikipedia.org/wiki/Inverse_transform_sampling) method. The idea behind this method is to compute the [cumulative distribution function](http://en.wikipedia.org/wiki/Cumulative_distribution_function):\n",
      "\n",
      "$$C(X)=P(x < X)=\\int_{x_{\\rm min}}^{X}P(x)dx$$\n",
      "\n",
      "which gives the probability that $x$ is smaller than $X$. The cumulative distribution function therefore consists of values that lie between 0 and 1. The inverse transfom method states that one way to sample a random value from $P(x)$ is to sample a random value $\\xi$ uniformly in the range [0:1], and to then find the value of $x$ such that $C(x)=\\xi$ (this can be done by interpolation). You can find more information about the proof that this works [here](http://en.wikipedia.org/wiki/Inverse_transform_sampling#Proof_of_correctness) and we will now test this out.\n",
      "\n",
      "Your first task is to write a function that given a normalized probability distribution function given by two arrays ``x`` and ``p`` (which define $p(x)$), and a requested number ``n`` of random samples, will return a Numpy array of randomly sampled values. You should not use any loops (one point will be taken off if you use a loop!). You will likely find the [cumtrapz](http://docs.scipy.org/doc/scipy/reference/generated/scipy.integrate.cumtrapz.html#scipy.integrate.cumtrapz) useful for computing the cumulative distribution.\n",
      "\n",
      "Once you have written this function, read in [this](pdf_data.txt) data, where the two columns give ``x`` and ``p``, normalize the probability distribution so that the integral is 1, and sample 10000 values using your function. Make a (normalized) histogram plot of the values, and overplot the $p(x)$ function. If your function is working correctly, the histogram should follow the function closely (make sure you increase the number of bins for the histogram to properly see the shape).\n",
      "\n",
      "**Note:** if you are completely stuck, and cannot get this to work, let me know and I can tell you how to fix your function so that you can proceed to the next section (in this case, I will deduct 2 points from your final solution).\n",
      "\n",
      "Testing the central limit theorem (4 points)\n",
      "--------------------------------------------\n",
      "\n",
      "Now that you have code to sample from an arbitrary probability distribution function we are going to examine what happens when we add random variables sampled from the same distribution.\n",
      "\n",
      "Create a function that given a probability distribution function given by ``x`` and ``p`` and a number of random samples ``n`` as before, as well as a number of iterations ``m``. This new function should use the function from the first part to sample ``n`` random values from ``x`` and ``p`` and will repeat this ``m`` times, each time adding the array of random values to the previous array of values. The function should then return an array that has ``n`` values which are each the sum of ``m`` values. This function can include a loop (although it is possible to write it without a loop), and should call the function from the first section of this problem set.\n",
      "\n",
      "Now call this function with ``x`` and ``p`` set to the values from the file, ``n=10000``, and use four different values of ``m``: 1, 3, 9, and 27. Make a Matplotlib figure that contains 4 subplots, and in each subplot show a normalized histogram of the values returned. You can make subplots by using:\n",
      "\n",
      "    plt.subplot(ny, nx, i)\n",
      "\n",
      "where ``nx`` and ``ny`` are the number of sub-plots in the x and y direction, and ``i`` gives the number of the current subplot (should be between ``1`` and ``nx * ny``). If you like you can try and improve the look of the plot by learning more about Matplotlib.\n",
      "\n",
      "Describe what you see, and how it relates to the central limit theorem. \n",
      "\n",
      "PEP8 (1 point)\n",
      "--------------\n",
      "\n",
      "This week, compliance with the PEP8 style guidelines are required, for 1 point.\n",
      "\n"
     ]
    }
   ],
   "metadata": {}
  }
 ]
}
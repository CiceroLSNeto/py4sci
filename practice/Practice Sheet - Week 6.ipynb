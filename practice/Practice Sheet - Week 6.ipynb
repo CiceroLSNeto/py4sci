{
 "metadata": {
  "name": "Practice Sheet - Week 6"
 },
 "nbformat": 3,
 "nbformat_minor": 0,
 "worksheets": [
  {
   "cells": [
    {
     "cell_type": "markdown",
     "metadata": {},
     "source": [
      "Practice Sheet - Week 6\n",
      "=======================\n",
      "\n",
      "Problem 1\n",
      "---------\n",
      "\n",
      "This is an extension of Problem 2 for week 5. Download [this](munich_temperatures_average_with_bad_data.txt) data file, which gives the temperature in Munich every day for several years. Read in the data, and mask the bad values (see the week 5 sheet for this), then try and fit the following function to the data:\n",
      "\n",
      "$$f(t) = a~\\cos{(2\\pi t + b)} + c$$\n",
      "\n",
      "where $t$ is the time in years. Make a plot of the data and the best-fit model in the range 2008 to 2012. What are the best-fit values of the parameters? What is the overall average temperature in Munich, and what are the typical daily average values predicted by the model for the coldest and hottest time of year? What is the meaning of the ``b`` parameter, and does its value make sense?"
     ]
    }
   ],
   "metadata": {}
  }
 ]
}
{
 "metadata": {
  "name": "Practice Sheet - Week 7 - Solutions"
 },
 "nbformat": 3,
 "nbformat_minor": 0,
 "worksheets": [
  {
   "cells": [
    {
     "cell_type": "markdown",
     "metadata": {},
     "source": [
      "Practice Sheet - Week 7\n",
      "=======================\n",
      "\n",
      "Problem 1\n",
      "---------"
     ]
    },
    {
     "cell_type": "code",
     "collapsed": false,
     "input": [
      "from scipy.integrate import simps\n",
      "\n",
      "data = np.loadtxt('decay_data.txt')\n",
      "x = data[:,0]\n",
      "y = data[:,1]\n",
      "\n",
      "# x is in days and y is in decays per second,\n",
      "# so first convert x to seconds so that the\n",
      "# integral gives the total number of decays:\n",
      "x_sec = x * 86400.\n",
      "\n",
      "print \"Total number of decays:\", simps(y, x=x_sec)"
     ],
     "language": "python",
     "metadata": {},
     "outputs": [
      {
       "output_type": "stream",
       "stream": "stdout",
       "text": [
        "Total number of decays: 1178677.95368\n"
       ]
      }
     ],
     "prompt_number": 8
    },
    {
     "cell_type": "markdown",
     "metadata": {},
     "source": [
      "Problem 2\n",
      "---------"
     ]
    },
    {
     "cell_type": "code",
     "collapsed": false,
     "input": [
      "from scipy.interpolate import interp1d\n",
      "\n",
      "# Find values at 5 and 15 days:\n",
      "f = interp1d(x_sec, y)\n",
      "y_5 = f(5. * 86400.)\n",
      "y_15 = f(15. * 86400.)\n",
      "\n",
      "# Extract values from ``x_sec`` and ``y`` which are in the range 5 to 15 days:\n",
      "keep = (x_sec > 5. * 86400.) & (x_sec < 15. * 86400.)\n",
      "\n",
      "# Create final array:\n",
      "x_sec_sub = np.hstack([5. * 86400., x_sec[keep], 15. * 86400.])\n",
      "y_sub = np.hstack([y_5, y[keep], y_15])\n",
      "\n",
      "# Intergrate\n",
      "print \"Decays from 5 to 15 days:\", simps(y_sub, x=x_sec_sub)"
     ],
     "language": "python",
     "metadata": {},
     "outputs": [
      {
       "output_type": "stream",
       "stream": "stdout",
       "text": [
        "Decays from 5 to 15 days: 288371.804941\n"
       ]
      }
     ],
     "prompt_number": 15
    }
   ],
   "metadata": {}
  }
 ]
}
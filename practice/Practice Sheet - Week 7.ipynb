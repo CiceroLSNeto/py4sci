{
 "metadata": {
  "name": "Practice Sheet - Week 7"
 },
 "nbformat": 3,
 "nbformat_minor": 0,
 "worksheets": [
  {
   "cells": [
    {
     "cell_type": "markdown",
     "metadata": {},
     "source": [
      "Practice Sheet - Week 7\n",
      "=======================\n",
      "\n",
      "Problem 1\n",
      "---------\n",
      "\n",
      "Using the [radioactive decay data](data/decay_data.txt) from Problem Set 5, and using one of the ``scipy.integrate`` functions, find how many alpha particles were detected over the whole experiment (ignore the uncertainties).\n",
      "\n",
      "Problem 2\n",
      "---------\n",
      "\n",
      "As for Problem 1, but this time find the integral only for values in the range 5 to 15 days (ignore the uncertainties). Note that there are no values defined in the file for exactly 5 and 15 days, so you will need to interpolate these values. Note that you can also join values onto arrays using:"
     ]
    },
    {
     "cell_type": "code",
     "collapsed": false,
     "input": [
      "a = 1\n",
      "b = [2,3,4]\n",
      "c = 5\n",
      "np.hstack([a, b, c])"
     ],
     "language": "python",
     "metadata": {},
     "outputs": [
      {
       "output_type": "pyout",
       "prompt_number": 1,
       "text": [
        "array([1, 2, 3, 4, 5])"
       ]
      }
     ],
     "prompt_number": 1
    }
   ],
   "metadata": {}
  }
 ]
}
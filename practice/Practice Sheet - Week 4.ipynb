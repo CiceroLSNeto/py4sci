{
 "metadata": {
  "name": "Practice Sheet - Week 4"
 },
 "nbformat": 3,
 "nbformat_minor": 0,
 "worksheets": [
  {
   "cells": [
    {
     "cell_type": "markdown",
     "metadata": {},
     "source": [
      "Practice Sheet - Week 4\n",
      "=======================\n",
      "\n",
      "Practice Problem 1\n",
      "------------------\n",
      "\n",
      "Take the example from the 'Reading files' section of the lecture, and modify the final script so as to create a dictionary which gives ``Jmag`` for a given ``2MASS`` name, i.e.\n",
      "\n",
      "    >>> jmag['00424455+4116103']\n",
      "    10.773\n",
      "\n",
      "Practice Problem 2\n",
      "------------------\n",
      "\n",
      "Download [this](munich_temperatures_average.txt) data file, which gives the temperature in Munich every day for several years. Read in the data, and make a plot of the temperature against time. Then, make a plot of the temperature against the fractional day of the year (where 0 is January 1st, and 1 is December 31), but without the year information, so that all the years are plotted on top of each other."
     ]
    }
   ],
   "metadata": {}
  }
 ]
}
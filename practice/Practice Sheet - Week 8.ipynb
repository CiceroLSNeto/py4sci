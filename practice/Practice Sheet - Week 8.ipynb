{
 "metadata": {
  "name": "Practice Sheet - Week 8"
 },
 "nbformat": 3,
 "nbformat_minor": 0,
 "worksheets": [
  {
   "cells": [
    {
     "cell_type": "markdown",
     "metadata": {},
     "source": [
      "Practice Sheet - Week 8\n",
      "=======================\n",
      "\n",
      "Problem 1\n",
      "---------\n",
      "\n",
      "Try out the examples in the lecture notes, and you can try and continue making changes to the ``test_repo`` repository and pushing them online. Try creating a new file and adding this to the repository.\n",
      "\n",
      "Problem 2\n",
      "---------\n",
      "\n",
      "Go through the interactive tutorial at [http://try.github.com/](http://try.github.com/)"
     ]
    }
   ],
   "metadata": {}
  }
 ]
}
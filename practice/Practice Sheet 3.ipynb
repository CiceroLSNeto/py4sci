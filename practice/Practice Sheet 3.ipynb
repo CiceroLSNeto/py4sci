{
 "metadata": {
  "name": ""
 },
 "nbformat": 3,
 "nbformat_minor": 0,
 "worksheets": [
  {
   "cells": [
    {
     "cell_type": "markdown",
     "metadata": {},
     "source": [
      "Practice Sheet 3\n",
      "================\n",
      "\n",
      "Exercise 1\n",
      "----------\n",
      "\n",
      "Take the example from the 'Reading files' section of the lecture, and modify the final script so as to create a dictionary which gives ``Jmag`` for a given ``2MASS`` name, i.e.\n",
      "\n",
      "    >>> jmag['00424455+4116103']\n",
      "    10.773\n",
      "    \n",
      "Exercise 2\n",
      "----------\n",
      "\n",
      "Download [this](data/munich_temperatures_average.txt) data file, which gives the temperature in Munich every day for several years. Read in the data, and print out the minimum, average maximum temperature for each year, e.g:\n",
      "\n",
      "    1995: -3C  10C  35C\n",
      "    1996: ...\n",
      "    \n",
      "You can also try and print out the same values, but for each month (averaged over years), e.g.:\n",
      "\n",
      "    January: -15C 0C 3C\n",
      "    February: ..."
     ]
    }
   ],
   "metadata": {}
  }
 ]
}
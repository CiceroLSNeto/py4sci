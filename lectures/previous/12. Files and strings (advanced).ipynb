{
 "metadata": {
  "name": "12. Files and strings (advanced)"
 },
 "nbformat": 3,
 "nbformat_minor": 0,
 "worksheets": [
  {
   "cells": [
    {
     "cell_type": "markdown",
     "metadata": {},
     "source": [
      "Files and strings (advanced)\n",
      "============================\n",
      "\n",
      "At the start of the course, we learned how to manipulate strings, and how to read/write files. In this lecture, we go over a few useful features of Python that make it easier to deal with lists of files, as well as formatting data into strings (which can be useful for e.g. constructing filenames or writing data)\n",
      "\n",
      "The ``glob`` module\n",
      "-------------------\n",
      "\n",
      "In the Linux command-line, it is possible to list multiple files matching a pattern with e.g.:\n",
      "\n",
      "    $ ls *.py\n",
      "\n",
      "This means list all files ending in ``.py``. The built-in [glob](http://docs.python.org/2/library/glob.html) module allows you to do something similar from Python. The only important function here in the ``glob`` module is also called ``glob``. This function can be given a pattern (such as ``*.py``) and will return a list of filenames that match:"
     ]
    },
    {
     "cell_type": "code",
     "collapsed": false,
     "input": [
      "import glob\n",
      "glob.glob('Practice*.ipynb')"
     ],
     "language": "python",
     "metadata": {},
     "outputs": [
      {
       "output_type": "pyout",
       "prompt_number": 1,
       "text": [
        "['Practice Sheet - Week 11 - Solutions.ipynb',\n",
        " 'Practice Sheet - Week 11.ipynb',\n",
        " 'Practice Sheet - Week 2 - Solutions.ipynb',\n",
        " 'Practice Sheet - Week 2.ipynb',\n",
        " 'Practice Sheet - Week 3 - Solutions.ipynb',\n",
        " 'Practice Sheet - Week 3.ipynb',\n",
        " 'Practice Sheet - Week 4 - Solutions.ipynb',\n",
        " 'Practice Sheet - Week 4.ipynb',\n",
        " 'Practice Sheet - Week 5 - Solutions.ipynb',\n",
        " 'Practice Sheet - Week 5.ipynb',\n",
        " 'Practice Sheet - Week 6 - Solutions.ipynb',\n",
        " 'Practice Sheet - Week 6.ipynb',\n",
        " 'Practice Sheet - Week 7 - Solutions.ipynb',\n",
        " 'Practice Sheet - Week 7.ipynb',\n",
        " 'Practice Sheet - Week 8.ipynb']"
       ]
      }
     ],
     "prompt_number": 1
    },
    {
     "cell_type": "markdown",
     "metadata": {},
     "source": [
      "The ``os`` module\n",
      "-----------------\n",
      "\n",
      "The [os](http://docs.python.org/2/library/os.html) module allows you to interact with the system, and also contains utilities to construct or analyse file paths. The ``os.path`` sub-module is particularly useful for accessing files - for example,"
     ]
    },
    {
     "cell_type": "code",
     "collapsed": false,
     "input": [
      "import os\n",
      "os.path.exists('test.py')"
     ],
     "language": "python",
     "metadata": {},
     "outputs": [
      {
       "output_type": "pyout",
       "prompt_number": 2,
       "text": [
        "False"
       ]
      }
     ],
     "prompt_number": 2
    },
    {
     "cell_type": "markdown",
     "metadata": {},
     "source": [
      "can be used to find out if a file exists.\n",
      "\n",
      "When constructing the path to a file, for example ``data/file.txt``, one normally has to worry about whether this file is a Linux/Mac or a Windows file path (since Linux/Mac use ``/`` and Windows uses ``\\``). However, the ``os``module allows you to construct file paths without worrying about this:"
     ]
    },
    {
     "cell_type": "code",
     "collapsed": false,
     "input": [
      "os.path.join('data', 'file.txt')"
     ],
     "language": "python",
     "metadata": {},
     "outputs": [
      {
       "output_type": "pyout",
       "prompt_number": 3,
       "text": [
        "'data/file.txt'"
       ]
      }
     ],
     "prompt_number": 3
    },
    {
     "cell_type": "markdown",
     "metadata": {},
     "source": [
      "This can be combined with glob, for example:\n",
      "\n",
      "    glob.glob(os.path.join('data', '*.txt'))\n",
      "\n",
      "The ``os`` module also has other useful functions which you can find about from the [documentation](http://docs.python.org/2/library/os.html)."
     ]
    },
    {
     "cell_type": "markdown",
     "metadata": {},
     "source": [
      "String formatting\n",
      "-----------------\n",
      "\n",
      "We have talked about strings before, and you know that it is possible to construct strings containing values, e.g."
     ]
    },
    {
     "cell_type": "code",
     "collapsed": false,
     "input": [
      "'x=' + str(43.2) + ', y=', str(1./3.)"
     ],
     "language": "python",
     "metadata": {},
     "outputs": [
      {
       "output_type": "pyout",
       "prompt_number": 4,
       "text": [
        "('x=43.2, y=', '0.333333333333')"
       ]
      }
     ],
     "prompt_number": 4
    },
    {
     "cell_type": "markdown",
     "metadata": {},
     "source": [
      "However, one may want to format the values in more detail, for example forcing values to be a certain length, or have a certain number of decimal places. This is called *string formatting*. The new syntax (in Python 2.6 onwards) for string formatting looks like this:"
     ]
    },
    {
     "cell_type": "code",
     "collapsed": false,
     "input": [
      "\"{0} {1} {2}\".format(1./3., 2./7., 2.)"
     ],
     "language": "python",
     "metadata": {},
     "outputs": [
      {
       "output_type": "pyout",
       "prompt_number": 5,
       "text": [
        "'0.333333333333 0.285714285714 2.0'"
       ]
      }
     ],
     "prompt_number": 5
    },
    {
     "cell_type": "markdown",
     "metadata": {},
     "source": [
      "In the above example, the ``0``, ``1``, and ``2`` refer to the position of the argument in the parentheses, so one could also do:"
     ]
    },
    {
     "cell_type": "code",
     "collapsed": false,
     "input": [
      "\"{0} {0} {1}\".format(1./3., 2./7.)"
     ],
     "language": "python",
     "metadata": {},
     "outputs": [
      {
       "output_type": "pyout",
       "prompt_number": 6,
       "text": [
        "'0.333333333333 0.333333333333 0.285714285714'"
       ]
      }
     ],
     "prompt_number": 6
    },
    {
     "cell_type": "markdown",
     "metadata": {},
     "source": [
      "By default, the value looks the same as if one had used ``str()``, but you can also specify the format and number of decimal places:"
     ]
    },
    {
     "cell_type": "code",
     "collapsed": false,
     "input": [
      "\"{0:10.3f}\".format(1./3.)"
     ],
     "language": "python",
     "metadata": {},
     "outputs": [
      {
       "output_type": "pyout",
       "prompt_number": 7,
       "text": [
        "'     0.333'"
       ]
      }
     ],
     "prompt_number": 7
    },
    {
     "cell_type": "markdown",
     "metadata": {},
     "source": [
      "The ``f`` stands for floating-point, the 10 is the total length of the string, and the 3 is the nuber of decimal places. We can do something similar for integers (without the number of decimal places):"
     ]
    },
    {
     "cell_type": "code",
     "collapsed": false,
     "input": [
      "\"{0:10d}\".format(4)"
     ],
     "language": "python",
     "metadata": {},
     "outputs": [
      {
       "output_type": "pyout",
       "prompt_number": 8,
       "text": [
        "'         4'"
       ]
      }
     ],
     "prompt_number": 8
    },
    {
     "cell_type": "markdown",
     "metadata": {},
     "source": [
      "There are a number of options for string formatting - for instance, one can add leading zeros:"
     ]
    },
    {
     "cell_type": "code",
     "collapsed": false,
     "input": [
      "\"{0:010d}\".format(4)"
     ],
     "language": "python",
     "metadata": {},
     "outputs": [
      {
       "output_type": "pyout",
       "prompt_number": 9,
       "text": [
        "'0000000004'"
       ]
      }
     ],
     "prompt_number": 9
    },
    {
     "cell_type": "markdown",
     "metadata": {},
     "source": [
      "or align to the left:"
     ]
    },
    {
     "cell_type": "code",
     "collapsed": false,
     "input": [
      "\"{0:<10d}\".format(4)"
     ],
     "language": "python",
     "metadata": {},
     "outputs": [
      {
       "output_type": "pyout",
       "prompt_number": 10,
       "text": [
        "'4         '"
       ]
      }
     ],
     "prompt_number": 10
    },
    {
     "cell_type": "markdown",
     "metadata": {},
     "source": [
      "Instead of using ``0``, ``1``, etc. it is also possible to pass the values by name:"
     ]
    },
    {
     "cell_type": "code",
     "collapsed": false,
     "input": [
      "\"{day:02d}\".format(day=3)"
     ],
     "language": "python",
     "metadata": {},
     "outputs": [
      {
       "output_type": "pyout",
       "prompt_number": 11,
       "text": [
        "'03'"
       ]
      }
     ],
     "prompt_number": 11
    },
    {
     "cell_type": "markdown",
     "metadata": {},
     "source": [
      "Here is an example of where string formatting can be useful (and this was used to generate the files for Problem 9):"
     ]
    },
    {
     "cell_type": "code",
     "collapsed": false,
     "input": [
      "\"{year:04d}{month:02d}{day:02d}\".format(year=2013, month=7, day=8)"
     ],
     "language": "python",
     "metadata": {},
     "outputs": [
      {
       "output_type": "pyout",
       "prompt_number": 12,
       "text": [
        "'20130708'"
       ]
      }
     ],
     "prompt_number": 12
    }
   ],
   "metadata": {}
  }
 ]
}